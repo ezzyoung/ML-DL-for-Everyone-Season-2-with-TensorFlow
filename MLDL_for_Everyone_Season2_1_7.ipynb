{
  "nbformat": 4,
  "nbformat_minor": 0,
  "metadata": {
    "colab": {
      "provenance": [],
      "authorship_tag": "ABX9TyM6Aj8UD7M8YWeIiODoP0D0",
      "include_colab_link": true
    },
    "kernelspec": {
      "name": "python3",
      "display_name": "Python 3"
    },
    "language_info": {
      "name": "python"
    }
  },
  "cells": [
    {
      "cell_type": "markdown",
      "metadata": {
        "id": "view-in-github",
        "colab_type": "text"
      },
      "source": [
        "<a href=\"https://colab.research.google.com/github/ezzyoung/ML-DL-for-Everyone-Season-2-with-TensorFlow/blob/main/MLDL_for_Everyone_Season2_1_7.ipynb\" target=\"_parent\"><img src=\"https://colab.research.google.com/assets/colab-badge.svg\" alt=\"Open In Colab\"/></a>"
      ]
    },
    {
      "cell_type": "code",
      "execution_count": 2,
      "metadata": {
        "id": "lvB0AD3ZsNoZ"
      },
      "outputs": [],
      "source": [
        "import numpy as np\n",
        "import tensorflow as tf"
      ]
    },
    {
      "cell_type": "code",
      "source": [
        "#cost function 구하는 것에 대한 식\n",
        "X = np.array([1,2,3])\n",
        "Y = np.array([1,2,3])\n",
        "\n",
        "def cost_func(W,X,Y):\n",
        "  c=0\n",
        "  for i in range(len(X)):\n",
        "    c += (W*X[i]-Y[i])**2\n",
        "    return c/len(X)"
      ],
      "metadata": {
        "id": "VoBmWLC2saCj"
      },
      "execution_count": null,
      "outputs": []
    },
    {
      "cell_type": "code",
      "source": [
        "for feed_W in np.linspace(-3,5, num=15):\n",
        "  curr_cost = cost_func(feed_W, X, Y)\n",
        "  print(\"{:6.3f}| {:10.5f}\".format(feed_W, curr_cost))"
      ],
      "metadata": {
        "colab": {
          "base_uri": "https://localhost:8080/"
        },
        "id": "95ZjDr4VsutC",
        "outputId": "21bd149d-f710-4984-b101-16d538c4b4c1"
      },
      "execution_count": null,
      "outputs": [
        {
          "output_type": "stream",
          "name": "stdout",
          "text": [
            "-3.000|    5.33333\n",
            "-2.429|    3.91837\n",
            "-1.857|    2.72109\n",
            "-1.286|    1.74150\n",
            "-0.714|    0.97959\n",
            "-0.143|    0.43537\n",
            " 0.429|    0.10884\n",
            " 1.000|    0.00000\n",
            " 1.571|    0.10884\n",
            " 2.143|    0.43537\n",
            " 2.714|    0.97959\n",
            " 3.286|    1.74150\n",
            " 3.857|    2.72109\n",
            " 4.429|    3.91837\n",
            " 5.000|    5.33333\n"
          ]
        }
      ]
    },
    {
      "cell_type": "code",
      "source": [
        "W = tf.Variable([5.0])\n",
        "\n",
        "for step in range(300):\n",
        "  hypothesis = W*X\n",
        "  cost = tf.reduce_mean(tf.square(hypothesis - Y))\n",
        "\n",
        "  alpha = 0.01\n",
        "  gradient = tf.reduce_mean(tf.multiply(tf.multiply(W,X) - Y,X))\n",
        "  descent = W - tf.multiply(alpha, gradient)\n",
        "  W.assign(descent)\n",
        "\n",
        "  if step%10 == 0:\n",
        "    print(\"{:5}|{:10.4f}|{:10.6f}\".format(step, cost.numpy(), W.numpy()[0]))"
      ],
      "metadata": {
        "colab": {
          "base_uri": "https://localhost:8080/"
        },
        "id": "vLO60oDEtWNj",
        "outputId": "947e2b1b-583f-4ce6-8a09-036322bee6bb"
      },
      "execution_count": null,
      "outputs": [
        {
          "output_type": "stream",
          "name": "stdout",
          "text": [
            "    0|   74.6667|  4.813334\n",
            "   10|   28.7093|  3.364572\n",
            "   20|   11.0387|  2.466224\n",
            "   30|    4.2444|  1.909177\n",
            "   40|    1.6320|  1.563762\n",
            "   50|    0.6275|  1.349578\n",
            "   60|    0.2413|  1.216766\n",
            "   70|    0.0928|  1.134412\n",
            "   80|    0.0357|  1.083346\n",
            "   90|    0.0137|  1.051681\n",
            "  100|    0.0053|  1.032047\n",
            "  110|    0.0020|  1.019871\n",
            "  120|    0.0008|  1.012322\n",
            "  130|    0.0003|  1.007641\n",
            "  140|    0.0001|  1.004738\n",
            "  150|    0.0000|  1.002938\n",
            "  160|    0.0000|  1.001822\n",
            "  170|    0.0000|  1.001130\n",
            "  180|    0.0000|  1.000700\n",
            "  190|    0.0000|  1.000434\n",
            "  200|    0.0000|  1.000269\n",
            "  210|    0.0000|  1.000167\n",
            "  220|    0.0000|  1.000103\n",
            "  230|    0.0000|  1.000064\n",
            "  240|    0.0000|  1.000040\n",
            "  250|    0.0000|  1.000025\n",
            "  260|    0.0000|  1.000015\n",
            "  270|    0.0000|  1.000009\n",
            "  280|    0.0000|  1.000006\n",
            "  290|    0.0000|  1.000004\n"
          ]
        }
      ]
    },
    {
      "cell_type": "code",
      "source": [
        "#mutl-variable (다변수 선형회귀)"
      ],
      "metadata": {
        "id": "ex2Si4lWwxBq"
      },
      "execution_count": null,
      "outputs": []
    },
    {
      "cell_type": "code",
      "source": [
        "#오차 제곱의 평균값 = cost"
      ],
      "metadata": {
        "id": "VFarNr9_xUdB"
      },
      "execution_count": 1,
      "outputs": []
    },
    {
      "cell_type": "code",
      "source": [
        "#data & lable\n",
        "x1 = [73.,93.,89.,93.,20]\n",
        "x2 = [80.,88.,92.,23.,44]\n",
        "x3 = [93.,23.,100.,70.,30.]\n",
        "Y = [152.,155.,160.,194.,122.]\n",
        "\n",
        "w1 = tf.Variable(tf.random.normal([1]))\n",
        "w2 = tf.Variable(tf.random.normal([1]))\n",
        "w3 = tf.Variable(tf.random.normal([1]))\n",
        "b = tf.Variable(tf.random.normal([1]))\n",
        "\n",
        "learning_rate = 0.000001\n",
        "\n",
        "for i in range(1000+1):\n",
        "  with tf.GradientTape() as tape:\n",
        "    hyphothesis = w1*x1 + w2*x2 + w3*x3 + b\n",
        "    cost = tf.reduce_mean(tf.square(hyphothesis - Y))\n",
        "\n",
        "w1_grad, w2_grad, w3_grad, b_grad = tape.gradient(cost,[w1, w2, w3, b])"
      ],
      "metadata": {
        "id": "PPq7a_PTXkR_"
      },
      "execution_count": 3,
      "outputs": []
    },
    {
      "cell_type": "code",
      "source": [
        "w1.assign_sub(learning_rate * w1_grad)\n",
        "w2.assign_sub(learning_rate*w2_grad)\n",
        "w3.assign_sub(learning_rate*w3_grad)\n",
        "b.assign_sub(learning_rate*b_grad)\n",
        "\n",
        "if i % 50 == 0:\n",
        "  print(\"{:5}| {:12.4f}\".format(i, cost.numpy()))"
      ],
      "metadata": {
        "colab": {
          "base_uri": "https://localhost:8080/"
        },
        "id": "fMxIvltpZjna",
        "outputId": "580e1e19-90d2-4177-bc06-cc58b7dba8e6"
      },
      "execution_count": 5,
      "outputs": [
        {
          "output_type": "stream",
          "name": "stdout",
          "text": [
            " 1000|   17210.1875\n"
          ]
        }
      ]
    },
    {
      "cell_type": "code",
      "source": [
        "data = np.array([\n",
        "    #x1 x2 x3 y\n",
        "    [73.,80.,75.,152.],\n",
        "    [93.,88.,93.,185.],\n",
        "    [89.,91.,90.,180.],\n",
        "    [96.,98.,100.,196.],\n",
        "    [73.,66.,70.,142.]\n",
        "])\n",
        "\n",
        "X = data[:, :-1] #앞부분이 행(전체), 뒷부분이 열 컬럼(column)\n",
        "y = data[:, [-1]] #마지막 y 파트만 들어간다는 뜻"
      ],
      "metadata": {
        "id": "x_TGDEQI4sKH"
      },
      "execution_count": 6,
      "outputs": []
    },
    {
      "cell_type": "code",
      "source": [
        "#위 내용과 같이 행렬로 선형회귀 할 수 있음"
      ],
      "metadata": {
        "id": "PI8IotiO5aVD"
      },
      "execution_count": 7,
      "outputs": []
    },
    {
      "cell_type": "code",
      "source": [
        "data = np.array([\n",
        "    #x1 x2 x3 y\n",
        "    [73.,80.,75.,152.],\n",
        "    [93.,88.,93.,185.],\n",
        "    [89.,91.,90.,180.],\n",
        "    [96.,98.,100.,196.],\n",
        "    [73.,66.,70.,142.]\n",
        "])\n",
        "\n",
        "X = data[:, :-1] #앞부분이 행(전체), 뒷부분이 열 컬럼(column)\n",
        "y = data[:, [-1]] #마지막 y 파트만 들어간다는 뜻\n",
        "X = tf.cast(X, tf.float32)\n",
        "y = tf.cast(y, tf.float32)\n",
        "\n",
        "W = tf.Variable(tf.random.normal([3,1]))\n",
        "b = tf.Variable(tf.random.normal([1]))\n",
        "\n",
        "learning_rate = 0.001\n",
        "\n",
        "def predict(X):\n",
        "  return tf.matmul(X,W) + b\n",
        "\n",
        "n_epochs = 2000\n",
        "for i in range(n_epochs + 1):\n",
        "  with tf.GradientTape() as tape :\n",
        "    cost = tf.reduce_mean(tf.square(predict(X) - y))\n",
        "\n",
        "#calculate gradients of the loss\n",
        "\n",
        "W_grad, b_grad = tape.gradient(cost, [W,b])\n",
        "W.assign_sub(learning_rate * W_grad)\n",
        "b.assign_sub(learning_rate * b_grad)\n",
        "\n",
        "if i %100 == 0:\n",
        "  print(\"{:5} | {:10.4f}\".format(i, cost.numpy()))"
      ],
      "metadata": {
        "colab": {
          "base_uri": "https://localhost:8080/"
        },
        "id": "OPMKhsrW6o7j",
        "outputId": "28ee4762-8027-4ea3-be71-98361285bb2a"
      },
      "execution_count": 14,
      "outputs": [
        {
          "output_type": "stream",
          "name": "stdout",
          "text": [
            " 2000 | 10790.0615\n"
          ]
        }
      ]
    },
    {
      "cell_type": "code",
      "source": [],
      "metadata": {
        "id": "L-t7BGjW7m6d"
      },
      "execution_count": null,
      "outputs": []
    }
  ]
}